{
 "cells": [
  {
   "cell_type": "markdown",
   "metadata": {},
   "source": [
    "## Assignment 1"
   ]
  },
  {
   "cell_type": "code",
   "execution_count": 72,
   "metadata": {},
   "outputs": [],
   "source": [
    "#importing libraries\n",
    "import numpy as np \n"
   ]
  },
  {
   "cell_type": "markdown",
   "metadata": {},
   "source": [
    "Question 1. We can complete this operation using different techinques apart from loops"
   ]
  },
  {
   "cell_type": "markdown",
   "metadata": {},
   "source": [
    "Arithmetic way:"
   ]
  },
  {
   "cell_type": "code",
   "execution_count": 73,
   "metadata": {},
   "outputs": [
    {
     "name": "stdout",
     "output_type": "stream",
     "text": [
      "125250\n"
     ]
    }
   ],
   "source": [
    "\n",
    "def add1(n): \n",
    "  return (n*(n+1))//2 \n",
    " \n",
    "print(add1(500))"
   ]
  },
  {
   "cell_type": "markdown",
   "metadata": {},
   "source": [
    "Using NumPy:"
   ]
  },
  {
   "cell_type": "code",
   "execution_count": 74,
   "metadata": {},
   "outputs": [
    {
     "data": {
      "text/plain": [
       "125250"
      ]
     },
     "execution_count": 74,
     "metadata": {},
     "output_type": "execute_result"
    }
   ],
   "source": [
    "def add2():\n",
    "    n = np.arange(1,501,1)\n",
    "    return n.sum()\n",
    "add2()"
   ]
  },
  {
   "cell_type": "markdown",
   "metadata": {},
   "source": [
    "Question 2. Again multiple ways are availible:"
   ]
  },
  {
   "cell_type": "markdown",
   "metadata": {},
   "source": [
    "Using NumPy:"
   ]
  },
  {
   "cell_type": "code",
   "execution_count": 75,
   "metadata": {},
   "outputs": [
    {
     "name": "stdout",
     "output_type": "stream",
     "text": [
      "385\n"
     ]
    }
   ],
   "source": [
    "def addsquares():\n",
    "    arr = np.arange(1,11,1)\n",
    "    print(np.square(arr).sum())\n",
    "    \n",
    "addsquares()"
   ]
  },
  {
   "cell_type": "markdown",
   "metadata": {},
   "source": [
    "Using recursion:"
   ]
  },
  {
   "cell_type": "code",
   "execution_count": 76,
   "metadata": {},
   "outputs": [
    {
     "data": {
      "text/plain": [
       "385"
      ]
     },
     "execution_count": 76,
     "metadata": {},
     "output_type": "execute_result"
    }
   ],
   "source": [
    "def sum(n):\n",
    "    if n==1:\n",
    "        return 1\n",
    "    return n**2+sum(n-1)\n",
    "sum(10)\n"
   ]
  },
  {
   "cell_type": "markdown",
   "metadata": {},
   "source": [
    "Question 3."
   ]
  },
  {
   "cell_type": "code",
   "execution_count": 77,
   "metadata": {},
   "outputs": [
    {
     "data": {
      "text/plain": [
       "2500.0"
      ]
     },
     "execution_count": 77,
     "metadata": {},
     "output_type": "execute_result"
    }
   ],
   "source": [
    "def mediansquare():\n",
    "    arr = np.arange(1,100,1)\n",
    "    square = np.square(arr)\n",
    "    \n",
    "    result = np.median(square)\n",
    "\n",
    "    return result\n",
    "    \n",
    "mediansquare()"
   ]
  },
  {
   "cell_type": "markdown",
   "metadata": {},
   "source": [
    "Question 4."
   ]
  },
  {
   "cell_type": "code",
   "execution_count": 78,
   "metadata": {},
   "outputs": [
    {
     "data": {
      "text/plain": [
       "2949.5862233352136"
      ]
     },
     "execution_count": 78,
     "metadata": {},
     "output_type": "execute_result"
    }
   ],
   "source": [
    "def stdsquare():\n",
    "    arr2 = np.arange(1,100,1)\n",
    "    square2 = np.square(arr2)\n",
    "    result2 = np.std(square2)\n",
    "\n",
    "    return result2\n",
    "\n",
    "stdsquare()"
   ]
  },
  {
   "cell_type": "markdown",
   "metadata": {},
   "source": [
    "Question 5:"
   ]
  },
  {
   "cell_type": "code",
   "execution_count": 79,
   "metadata": {},
   "outputs": [
    {
     "name": "stdout",
     "output_type": "stream",
     "text": [
      "Upper limit of array: 100\n",
      "Standart devaition of all numbers from 1 to 100 is:  28.86607004772212\n"
     ]
    }
   ],
   "source": [
    "def withoutstd():\n",
    "    num = int(input(\"Upper limit of array: \"))\n",
    "    arr =np.arange(1,num+1,1)\n",
    "    meanvalue = np.mean(arr)\n",
    "    sum = 0\n",
    "    \n",
    "    for i in arr:\n",
    "        sum += ((i-meanvalue)**2)\n",
    "    result3 = np.sqrt(sum/num)\n",
    "  \n",
    "    print(\"Standart devaition of all numbers from 1 to\", num, \"is: \",result3)\n",
    "withoutstd()"
   ]
  },
  {
   "cell_type": "markdown",
   "metadata": {},
   "source": [
    "Question 6:"
   ]
  },
  {
   "cell_type": "markdown",
   "metadata": {},
   "source": [
    "Arrays with different sizes cannot be added, subtracted, or generally be used in arithmetic.\n",
    "\n",
    "What NumPy mainly do for completing the artihmetic operation is to duplicate the smaller array that it will have the dimensionality and size same with the larger one. This is called array broadcasting and it is available in NumPy when performing array arithmetic, which can greatly reduce and simplify our code but because it is 'streched' the size and runtime can increase. \n",
    "\n",
    "The main limitation that we have in broadcasting is we should have same shape of dimension (trailing part of shape of arrays) or has dimension size of 1. If neither the conditions is not met, we will get ValueError. Moreover, after broadcasting happens, each array will have to the element-wise maximum of shapes of the two initial arrays."
   ]
  },
  {
   "cell_type": "markdown",
   "metadata": {},
   "source": [
    "Question 7:"
   ]
  },
  {
   "cell_type": "code",
   "execution_count": 80,
   "metadata": {},
   "outputs": [
    {
     "name": "stdout",
     "output_type": "stream",
     "text": [
      "(20, 30) (10, 30) (10, 20)\n"
     ]
    }
   ],
   "source": [
    "x = np.ones((10, 20, 30))\n",
    "a = x.sum(axis=0)\n",
    "b = x.sum(axis=1)\n",
    "c =  x.sum(axis=2)\n",
    "\n",
    "print (np.shape(a), \n",
    "       np.shape(b),\n",
    "      np.shape(c))"
   ]
  },
  {
   "cell_type": "markdown",
   "metadata": {},
   "source": [
    "Question 8. We know that we are reducing the dimension of array while summing it up through any axis. \n",
    "Using logic and some testing, it can be realized that we are losing the axis that we are summing accordingly. In our case,   (a,b,c ... z) will lose the according index in shape call, y.sum(axis=0) would make the a to be removed from y.shape result (axis=1 case ==> (a,c, ... z).  This analogy is true for any case of 0 =< i < 26."
   ]
  },
  {
   "cell_type": "markdown",
   "metadata": {},
   "source": [
    "Question 9."
   ]
  },
  {
   "cell_type": "code",
   "execution_count": 81,
   "metadata": {},
   "outputs": [
    {
     "name": "stdout",
     "output_type": "stream",
     "text": [
      "Average grade of each student:  [81.7 72.7 75.  69.8 73.3 65.5 77.4 78.9 80.  69.9 72.5 73.8 70.8 74.1\n",
      " 74.8 81.3 70.  73.9 71.8 71.5 76.7 76.2 71.8 68.8 78.3 74.3 79.2 75.8\n",
      " 83.4 73.1 77.1 78.4 74.7 68.8 71.3 72.7 73.9 73.8 70.7 67.8 73.8 75.1\n",
      " 79.8 78.6 65.4 77.4 80.5 85.3 67.4 70.6 75.  78.5 73.4 77.6 68.3 86.9\n",
      " 75.1 79.8 75.  80.4 73.  75.  83.  74.8 74.8 76.7 76.8 69.2 74.5 67.5\n",
      " 71.2 77.9 73.  62.5 78.6 73.5 75.8 73.9 74.2 77.3 71.4 72.7 67.3 76.4\n",
      " 67.2 82.  73.8 75.5 74.6 63.6 72.2 85.  77.8 79.  72.7 74.4 80.6 62.2\n",
      " 69.5 73.6]\n",
      "Average grade in each exam [72.91 76.23 73.38 75.85 74.58 76.   75.01 74.09 73.15 73.21]\n"
     ]
    }
   ],
   "source": [
    "out_arr = np.random.randint(low = 50, high = 100, size = (100,10))\n",
    "avggrade = np.sum(out_arr, axis=1)/10\n",
    "avgexam = np.sum(out_arr, axis=0)/100\n",
    "\n",
    "print (\"Average grade of each student: \",avggrade)\n",
    "print (\"Average grade in each exam\",avgexam)"
   ]
  },
  {
   "cell_type": "markdown",
   "metadata": {},
   "source": [
    "Question 10."
   ]
  },
  {
   "cell_type": "code",
   "execution_count": 83,
   "metadata": {},
   "outputs": [
    {
     "name": "stdout",
     "output_type": "stream",
     "text": [
      "[0.23066104 0.33825598 0.43389592]\n"
     ]
    }
   ],
   "source": [
    "data = np.array([[ 89,  93,  83],\n",
    "       [ 100,  86,  78],\n",
    "       [ 97, 90, 88],\n",
    "       ])\n",
    "finalgrade = np.array([88,86,91])\n",
    "\n",
    "weights = np.linalg.solve(data, finalgrade)\n",
    "\n",
    "print(weights)"
   ]
  },
  {
   "cell_type": "code",
   "execution_count": null,
   "metadata": {},
   "outputs": [],
   "source": []
  }
 ],
 "metadata": {
  "kernelspec": {
   "display_name": "Python 3",
   "language": "python",
   "name": "python3"
  },
  "language_info": {
   "codemirror_mode": {
    "name": "ipython",
    "version": 3
   },
   "file_extension": ".py",
   "mimetype": "text/x-python",
   "name": "python",
   "nbconvert_exporter": "python",
   "pygments_lexer": "ipython3",
   "version": "3.7.6"
  }
 },
 "nbformat": 4,
 "nbformat_minor": 4
}
