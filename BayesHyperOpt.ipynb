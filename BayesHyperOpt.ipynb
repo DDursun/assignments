{
 "cells": [
  {
   "cell_type": "code",
   "execution_count": 1,
   "metadata": {},
   "outputs": [
    {
     "name": "stderr",
     "output_type": "stream",
     "text": [
      "c:\\users\\pavlo.cherneha\\appdata\\local\\programs\\python\\python38\\lib\\site-packages\\numpy\\_distributor_init.py:30: UserWarning: loaded more than 1 DLL from .libs:\n",
      "c:\\users\\pavlo.cherneha\\appdata\\local\\programs\\python\\python38\\lib\\site-packages\\numpy\\.libs\\libopenblas.PYQHXLVVQ7VESDPUVUADXEVJOBGHJPAY.gfortran-win_amd64.dll\n",
      "c:\\users\\pavlo.cherneha\\appdata\\local\\programs\\python\\python38\\lib\\site-packages\\numpy\\.libs\\libopenblas.WCDJNK7YVMPZQ2ME2ZZHJJRJ3JIKNDB7.gfortran-win_amd64.dll\n",
      "  warnings.warn(\"loaded more than 1 DLL from .libs:\"\n"
     ]
    }
   ],
   "source": [
    "import pandas as pd\n",
    "import numpy as np\n",
    "import matplotlib.pyplot as plt\n",
    "import seaborn as sns\n",
    "from sklearn.pipeline import Pipeline\n",
    "from sklearn.preprocessing import OneHotEncoder, RobustScaler, MinMaxScaler, StandardScaler\n",
    "from sklearn.impute import SimpleImputer\n",
    "from sklearn.compose import ColumnTransformer\n",
    "from sklearn.model_selection import cross_val_score\n",
    "from sklearn.neighbors import KNeighborsClassifier\n",
    "from sklearn.model_selection import train_test_split"
   ]
  },
  {
   "cell_type": "code",
   "execution_count": 5,
   "metadata": {},
   "outputs": [
    {
     "name": "stdout",
     "output_type": "stream",
     "text": [
      "(614, 13)\n"
     ]
    },
    {
     "data": {
      "text/html": [
       "<div>\n",
       "<style scoped>\n",
       "    .dataframe tbody tr th:only-of-type {\n",
       "        vertical-align: middle;\n",
       "    }\n",
       "\n",
       "    .dataframe tbody tr th {\n",
       "        vertical-align: top;\n",
       "    }\n",
       "\n",
       "    .dataframe thead th {\n",
       "        text-align: right;\n",
       "    }\n",
       "</style>\n",
       "<table border=\"1\" class=\"dataframe\">\n",
       "  <thead>\n",
       "    <tr style=\"text-align: right;\">\n",
       "      <th></th>\n",
       "      <th>Loan_ID</th>\n",
       "      <th>Gender</th>\n",
       "      <th>Married</th>\n",
       "      <th>Dependents</th>\n",
       "      <th>Education</th>\n",
       "      <th>Self_Employed</th>\n",
       "      <th>ApplicantIncome</th>\n",
       "      <th>CoapplicantIncome</th>\n",
       "      <th>LoanAmount</th>\n",
       "      <th>Loan_Amount_Term</th>\n",
       "      <th>Credit_History</th>\n",
       "      <th>Property_Area</th>\n",
       "      <th>Loan_Status</th>\n",
       "    </tr>\n",
       "  </thead>\n",
       "  <tbody>\n",
       "    <tr>\n",
       "      <th>0</th>\n",
       "      <td>LP001002</td>\n",
       "      <td>Male</td>\n",
       "      <td>No</td>\n",
       "      <td>0</td>\n",
       "      <td>Graduate</td>\n",
       "      <td>No</td>\n",
       "      <td>5849</td>\n",
       "      <td>0.0</td>\n",
       "      <td>NaN</td>\n",
       "      <td>360.0</td>\n",
       "      <td>1.0</td>\n",
       "      <td>Urban</td>\n",
       "      <td>Y</td>\n",
       "    </tr>\n",
       "    <tr>\n",
       "      <th>1</th>\n",
       "      <td>LP001003</td>\n",
       "      <td>Male</td>\n",
       "      <td>Yes</td>\n",
       "      <td>1</td>\n",
       "      <td>Graduate</td>\n",
       "      <td>No</td>\n",
       "      <td>4583</td>\n",
       "      <td>1508.0</td>\n",
       "      <td>128.0</td>\n",
       "      <td>360.0</td>\n",
       "      <td>1.0</td>\n",
       "      <td>Rural</td>\n",
       "      <td>N</td>\n",
       "    </tr>\n",
       "    <tr>\n",
       "      <th>2</th>\n",
       "      <td>LP001005</td>\n",
       "      <td>Male</td>\n",
       "      <td>Yes</td>\n",
       "      <td>0</td>\n",
       "      <td>Graduate</td>\n",
       "      <td>Yes</td>\n",
       "      <td>3000</td>\n",
       "      <td>0.0</td>\n",
       "      <td>66.0</td>\n",
       "      <td>360.0</td>\n",
       "      <td>1.0</td>\n",
       "      <td>Urban</td>\n",
       "      <td>Y</td>\n",
       "    </tr>\n",
       "    <tr>\n",
       "      <th>3</th>\n",
       "      <td>LP001006</td>\n",
       "      <td>Male</td>\n",
       "      <td>Yes</td>\n",
       "      <td>0</td>\n",
       "      <td>Not Graduate</td>\n",
       "      <td>No</td>\n",
       "      <td>2583</td>\n",
       "      <td>2358.0</td>\n",
       "      <td>120.0</td>\n",
       "      <td>360.0</td>\n",
       "      <td>1.0</td>\n",
       "      <td>Urban</td>\n",
       "      <td>Y</td>\n",
       "    </tr>\n",
       "    <tr>\n",
       "      <th>4</th>\n",
       "      <td>LP001008</td>\n",
       "      <td>Male</td>\n",
       "      <td>No</td>\n",
       "      <td>0</td>\n",
       "      <td>Graduate</td>\n",
       "      <td>No</td>\n",
       "      <td>6000</td>\n",
       "      <td>0.0</td>\n",
       "      <td>141.0</td>\n",
       "      <td>360.0</td>\n",
       "      <td>1.0</td>\n",
       "      <td>Urban</td>\n",
       "      <td>Y</td>\n",
       "    </tr>\n",
       "  </tbody>\n",
       "</table>\n",
       "</div>"
      ],
      "text/plain": [
       "    Loan_ID Gender Married Dependents     Education Self_Employed  \\\n",
       "0  LP001002   Male      No          0      Graduate            No   \n",
       "1  LP001003   Male     Yes          1      Graduate            No   \n",
       "2  LP001005   Male     Yes          0      Graduate           Yes   \n",
       "3  LP001006   Male     Yes          0  Not Graduate            No   \n",
       "4  LP001008   Male      No          0      Graduate            No   \n",
       "\n",
       "   ApplicantIncome  CoapplicantIncome  LoanAmount  Loan_Amount_Term  \\\n",
       "0             5849                0.0         NaN             360.0   \n",
       "1             4583             1508.0       128.0             360.0   \n",
       "2             3000                0.0        66.0             360.0   \n",
       "3             2583             2358.0       120.0             360.0   \n",
       "4             6000                0.0       141.0             360.0   \n",
       "\n",
       "   Credit_History Property_Area Loan_Status  \n",
       "0             1.0         Urban           Y  \n",
       "1             1.0         Rural           N  \n",
       "2             1.0         Urban           Y  \n",
       "3             1.0         Urban           Y  \n",
       "4             1.0         Urban           Y  "
      ]
     },
     "execution_count": 5,
     "metadata": {},
     "output_type": "execute_result"
    }
   ],
   "source": [
    "df=pd.read_csv(\"D:\\\\Guides\\\\1\\\\Vacancies\\\\Baku ML course DAN IT\\\\Lectures\\\\Jupyter notebooks\\\\Credit Risk.csv\")\n",
    "print(df.shape)\n",
    "df.head()"
   ]
  },
  {
   "cell_type": "code",
   "execution_count": 6,
   "metadata": {},
   "outputs": [],
   "source": [
    "X = df[['Gender', 'Married', 'Dependents', 'Education', 'Self_Employed',\n",
    "        'Loan_Amount_Term', 'Property_Area', 'ApplicantIncome', 'CoapplicantIncome',\n",
    "        'LoanAmount', 'Credit_History']]\n",
    "y = df['Loan_Status']\n",
    "\n",
    "\n",
    "X_train, X_test, y_train, y_test = train_test_split(X, y)"
   ]
  },
  {
   "cell_type": "code",
   "execution_count": 7,
   "metadata": {},
   "outputs": [],
   "source": [
    "categorical_preprocessing = Pipeline(steps=[\n",
    "    ('imputation', SimpleImputer(strategy='most_frequent')),\n",
    "    ('ohe', OneHotEncoder(handle_unknown='ignore'))\n",
    "])\n",
    "\n",
    "numeric_preprocessing = Pipeline(steps=[\n",
    "    ('imputation', SimpleImputer(strategy='median')),\n",
    "    ('scaling', RobustScaler())\n",
    "])\n",
    "\n",
    "preprocessing = ColumnTransformer(transformers=[\n",
    "    ('categorical', categorical_preprocessing, ['Gender', 'Married', 'Dependents', 'Education',\n",
    "                                                'Self_Employed',\n",
    "                                                'Loan_Amount_Term', 'Property_Area']),\n",
    "    ('numeric', numeric_preprocessing, ['ApplicantIncome', 'CoapplicantIncome',\n",
    "                                        'LoanAmount', 'Credit_History'])\n",
    "])\n",
    "\n",
    "clf = Pipeline(steps=[\n",
    "    ('preprocessing', preprocessing),\n",
    "    ('clf', KNeighborsClassifier(n_neighbors=7))\n",
    "])"
   ]
  },
  {
   "cell_type": "code",
   "execution_count": 8,
   "metadata": {},
   "outputs": [
    {
     "data": {
      "text/plain": [
       "Y    422\n",
       "N    192\n",
       "Name: Loan_Status, dtype: int64"
      ]
     },
     "execution_count": 8,
     "metadata": {},
     "output_type": "execute_result"
    }
   ],
   "source": [
    "y.value_counts()"
   ]
  },
  {
   "cell_type": "code",
   "execution_count": 12,
   "metadata": {},
   "outputs": [
    {
     "data": {
      "text/plain": [
       "0.3127035830618892"
      ]
     },
     "execution_count": 12,
     "metadata": {},
     "output_type": "execute_result"
    }
   ],
   "source": [
    "192/(422+192)"
   ]
  },
  {
   "cell_type": "code",
   "execution_count": 13,
   "metadata": {},
   "outputs": [],
   "source": [
    "from sklearn.metrics import f1_score, make_scorer"
   ]
  },
  {
   "cell_type": "code",
   "execution_count": 16,
   "metadata": {},
   "outputs": [
    {
     "data": {
      "text/plain": [
       "0.23082670906200317"
      ]
     },
     "execution_count": 16,
     "metadata": {},
     "output_type": "execute_result"
    }
   ],
   "source": [
    "cross_val_score(clf, X_train, y_train, cv=5, scoring=make_scorer(f1_score, pos_label=\"N\")).mean()"
   ]
  },
  {
   "cell_type": "code",
   "execution_count": 17,
   "metadata": {
    "collapsed": true,
    "jupyter": {
     "outputs_hidden": true
    }
   },
   "outputs": [
    {
     "data": {
      "text/plain": [
       "Pipeline(steps=[('preprocessing',\n",
       "                 ColumnTransformer(transformers=[('categorical',\n",
       "                                                  Pipeline(steps=[('imputation',\n",
       "                                                                   SimpleImputer(strategy='most_frequent')),\n",
       "                                                                  ('ohe',\n",
       "                                                                   OneHotEncoder(handle_unknown='ignore'))]),\n",
       "                                                  ['Gender', 'Married',\n",
       "                                                   'Dependents', 'Education',\n",
       "                                                   'Self_Employed',\n",
       "                                                   'Loan_Amount_Term',\n",
       "                                                   'Property_Area']),\n",
       "                                                 ('numeric',\n",
       "                                                  Pipeline(steps=[('imputation',\n",
       "                                                                   SimpleImputer(strategy='median')),\n",
       "                                                                  ('scaling',\n",
       "                                                                   RobustScaler())]),\n",
       "                                                  ['ApplicantIncome',\n",
       "                                                   'CoapplicantIncome',\n",
       "                                                   'LoanAmount',\n",
       "                                                   'Credit_History'])])),\n",
       "                ('clf', KNeighborsClassifier(n_neighbors=7))])"
      ]
     },
     "execution_count": 17,
     "metadata": {},
     "output_type": "execute_result"
    }
   ],
   "source": [
    "clf.fit(X_train, y_train)"
   ]
  },
  {
   "cell_type": "code",
   "execution_count": 18,
   "metadata": {},
   "outputs": [
    {
     "data": {
      "text/plain": [
       "0.24137931034482765"
      ]
     },
     "execution_count": 18,
     "metadata": {},
     "output_type": "execute_result"
    }
   ],
   "source": [
    "f1_score(y_test, clf.predict(X_test), pos_label='N')"
   ]
  },
  {
   "cell_type": "code",
   "execution_count": 20,
   "metadata": {},
   "outputs": [],
   "source": [
    "import optuna"
   ]
  },
  {
   "cell_type": "code",
   "execution_count": 22,
   "metadata": {
    "jupyter": {
     "source_hidden": true
    }
   },
   "outputs": [],
   "source": [
    "def objective(trial):\n",
    "    n_neighbors = trial.suggest_int('n_neighbors', 3, 101)\n",
    "    categorical_preprocessing = Pipeline(steps=[\n",
    "        ('imputation', SimpleImputer(strategy='most_frequent')),\n",
    "        ('ohe', OneHotEncoder(handle_unknown='ignore'))\n",
    "    ])\n",
    "\n",
    "    numeric_preprocessing = Pipeline(steps=[\n",
    "        ('imputation', SimpleImputer(strategy='median')),\n",
    "        ('scaling', RobustScaler())\n",
    "    ])\n",
    "\n",
    "    preprocessing = ColumnTransformer(transformers=[\n",
    "        ('categorical', categorical_preprocessing, ['Gender', 'Married', 'Dependents', 'Education',\n",
    "                                                    'Self_Employed',\n",
    "                                                    'Loan_Amount_Term', 'Property_Area']),\n",
    "        ('numeric', numeric_preprocessing, ['ApplicantIncome', 'CoapplicantIncome',\n",
    "                                            'LoanAmount', 'Credit_History'])\n",
    "    ])\n",
    "\n",
    "    clf = Pipeline(steps=[\n",
    "        ('preprocessing', preprocessing),\n",
    "        ('clf', KNeighborsClassifier(n_neighbors=n_neighbors))\n",
    "    ])\n",
    "    \n",
    "    return cross_val_score(clf, X_train, y_train, cv=5, scoring=make_scorer(f1_score, pos_label='N')).mean()"
   ]
  },
  {
   "cell_type": "code",
   "execution_count": 23,
   "metadata": {},
   "outputs": [
    {
     "name": "stderr",
     "output_type": "stream",
     "text": [
      "\u001b[32m[I 2022-02-05 11:42:03,337]\u001b[0m A new study created in memory with name: no-name-d540936c-7ad5-49b3-938e-a26b066fc5fb\u001b[0m\n"
     ]
    }
   ],
   "source": [
    "study = optuna.create_study(direction='maximize')"
   ]
  },
  {
   "cell_type": "code",
   "execution_count": 24,
   "metadata": {
    "collapsed": true,
    "jupyter": {
     "outputs_hidden": true
    }
   },
   "outputs": [
    {
     "name": "stderr",
     "output_type": "stream",
     "text": [
      "\u001b[32m[I 2022-02-05 11:45:50,909]\u001b[0m Trial 0 finished with value: 0.0 and parameters: {'n_neighbors': 99}. Best is trial 0 with value: 0.0.\u001b[0m\n",
      "\u001b[32m[I 2022-02-05 11:45:51,111]\u001b[0m Trial 1 finished with value: 0.07429130009775171 and parameters: {'n_neighbors': 20}. Best is trial 1 with value: 0.07429130009775171.\u001b[0m\n",
      "\u001b[32m[I 2022-02-05 11:45:51,310]\u001b[0m Trial 2 finished with value: 0.03790322580645161 and parameters: {'n_neighbors': 27}. Best is trial 1 with value: 0.07429130009775171.\u001b[0m\n",
      "\u001b[32m[I 2022-02-05 11:45:51,483]\u001b[0m Trial 3 finished with value: 0.06290322580645161 and parameters: {'n_neighbors': 26}. Best is trial 1 with value: 0.07429130009775171.\u001b[0m\n",
      "\u001b[32m[I 2022-02-05 11:45:51,675]\u001b[0m Trial 4 finished with value: 0.0 and parameters: {'n_neighbors': 72}. Best is trial 1 with value: 0.07429130009775171.\u001b[0m\n",
      "\u001b[32m[I 2022-02-05 11:45:51,905]\u001b[0m Trial 5 finished with value: 0.0 and parameters: {'n_neighbors': 84}. Best is trial 1 with value: 0.07429130009775171.\u001b[0m\n",
      "\u001b[32m[I 2022-02-05 11:45:52,077]\u001b[0m Trial 6 finished with value: 0.05040322580645161 and parameters: {'n_neighbors': 37}. Best is trial 1 with value: 0.07429130009775171.\u001b[0m\n",
      "\u001b[32m[I 2022-02-05 11:45:52,238]\u001b[0m Trial 7 finished with value: 0.0 and parameters: {'n_neighbors': 60}. Best is trial 1 with value: 0.07429130009775171.\u001b[0m\n",
      "\u001b[32m[I 2022-02-05 11:45:52,407]\u001b[0m Trial 8 finished with value: 0.23708149741525864 and parameters: {'n_neighbors': 10}. Best is trial 8 with value: 0.23708149741525864.\u001b[0m\n",
      "\u001b[32m[I 2022-02-05 11:45:52,599]\u001b[0m Trial 9 finished with value: 0.0 and parameters: {'n_neighbors': 94}. Best is trial 8 with value: 0.23708149741525864.\u001b[0m\n",
      "\u001b[32m[I 2022-02-05 11:45:52,754]\u001b[0m Trial 10 finished with value: 0.31921827463517766 and parameters: {'n_neighbors': 5}. Best is trial 10 with value: 0.31921827463517766.\u001b[0m\n",
      "\u001b[32m[I 2022-02-05 11:45:52,894]\u001b[0m Trial 11 finished with value: 0.3395602240896358 and parameters: {'n_neighbors': 3}. Best is trial 11 with value: 0.3395602240896358.\u001b[0m\n",
      "\u001b[32m[I 2022-02-05 11:45:53,099]\u001b[0m Trial 12 finished with value: 0.36347352795645727 and parameters: {'n_neighbors': 6}. Best is trial 12 with value: 0.36347352795645727.\u001b[0m\n",
      "\u001b[32m[I 2022-02-05 11:45:53,319]\u001b[0m Trial 13 finished with value: 0.03870967741935484 and parameters: {'n_neighbors': 41}. Best is trial 12 with value: 0.36347352795645727.\u001b[0m\n",
      "\u001b[32m[I 2022-02-05 11:45:53,475]\u001b[0m Trial 14 finished with value: 0.36347352795645727 and parameters: {'n_neighbors': 6}. Best is trial 12 with value: 0.36347352795645727.\u001b[0m\n",
      "\u001b[32m[I 2022-02-05 11:45:53,666]\u001b[0m Trial 15 finished with value: 0.0 and parameters: {'n_neighbors': 49}. Best is trial 12 with value: 0.36347352795645727.\u001b[0m\n",
      "\u001b[32m[I 2022-02-05 11:45:53,964]\u001b[0m Trial 16 finished with value: 0.03790322580645161 and parameters: {'n_neighbors': 17}. Best is trial 12 with value: 0.36347352795645727.\u001b[0m\n",
      "\u001b[32m[I 2022-02-05 11:45:54,128]\u001b[0m Trial 17 finished with value: 0.07386363636363637 and parameters: {'n_neighbors': 34}. Best is trial 12 with value: 0.36347352795645727.\u001b[0m\n",
      "\u001b[32m[I 2022-02-05 11:45:54,268]\u001b[0m Trial 18 finished with value: 0.0375 and parameters: {'n_neighbors': 15}. Best is trial 12 with value: 0.36347352795645727.\u001b[0m\n",
      "\u001b[32m[I 2022-02-05 11:45:54,420]\u001b[0m Trial 19 finished with value: 0.0 and parameters: {'n_neighbors': 58}. Best is trial 12 with value: 0.36347352795645727.\u001b[0m\n",
      "\u001b[32m[I 2022-02-05 11:45:54,553]\u001b[0m Trial 20 finished with value: 0.06290322580645161 and parameters: {'n_neighbors': 26}. Best is trial 12 with value: 0.36347352795645727.\u001b[0m\n",
      "\u001b[32m[I 2022-02-05 11:45:54,695]\u001b[0m Trial 21 finished with value: 0.3982684665646127 and parameters: {'n_neighbors': 4}. Best is trial 21 with value: 0.3982684665646127.\u001b[0m\n",
      "\u001b[32m[I 2022-02-05 11:45:54,829]\u001b[0m Trial 22 finished with value: 0.23708149741525864 and parameters: {'n_neighbors': 10}. Best is trial 21 with value: 0.3982684665646127.\u001b[0m\n",
      "\u001b[32m[I 2022-02-05 11:45:54,976]\u001b[0m Trial 23 finished with value: 0.3395602240896358 and parameters: {'n_neighbors': 3}. Best is trial 21 with value: 0.3982684665646127.\u001b[0m\n",
      "\u001b[32m[I 2022-02-05 11:45:55,127]\u001b[0m Trial 24 finished with value: 0.09146591970121383 and parameters: {'n_neighbors': 14}. Best is trial 21 with value: 0.3982684665646127.\u001b[0m\n",
      "\u001b[32m[I 2022-02-05 11:45:55,264]\u001b[0m Trial 25 finished with value: 0.050806451612903224 and parameters: {'n_neighbors': 21}. Best is trial 21 with value: 0.3982684665646127.\u001b[0m\n",
      "\u001b[32m[I 2022-02-05 11:45:55,416]\u001b[0m Trial 26 finished with value: 0.025806451612903226 and parameters: {'n_neighbors': 44}. Best is trial 21 with value: 0.3982684665646127.\u001b[0m\n",
      "\u001b[32m[I 2022-02-05 11:45:55,554]\u001b[0m Trial 27 finished with value: 0.23708149741525864 and parameters: {'n_neighbors': 10}. Best is trial 21 with value: 0.3982684665646127.\u001b[0m\n",
      "\u001b[32m[I 2022-02-05 11:45:55,744]\u001b[0m Trial 28 finished with value: 0.07386363636363637 and parameters: {'n_neighbors': 34}. Best is trial 21 with value: 0.3982684665646127.\u001b[0m\n",
      "\u001b[32m[I 2022-02-05 11:45:55,875]\u001b[0m Trial 29 finished with value: 0.07426686217008797 and parameters: {'n_neighbors': 28}. Best is trial 21 with value: 0.3982684665646127.\u001b[0m\n",
      "\u001b[32m[I 2022-02-05 11:45:56,033]\u001b[0m Trial 30 finished with value: 0.2642116332360235 and parameters: {'n_neighbors': 8}. Best is trial 21 with value: 0.3982684665646127.\u001b[0m\n",
      "\u001b[32m[I 2022-02-05 11:45:56,170]\u001b[0m Trial 31 finished with value: 0.3982684665646127 and parameters: {'n_neighbors': 4}. Best is trial 21 with value: 0.3982684665646127.\u001b[0m\n",
      "\u001b[32m[I 2022-02-05 11:45:56,303]\u001b[0m Trial 32 finished with value: 0.07429130009775171 and parameters: {'n_neighbors': 20}. Best is trial 21 with value: 0.3982684665646127.\u001b[0m\n",
      "\u001b[32m[I 2022-02-05 11:45:56,433]\u001b[0m Trial 33 finished with value: 0.09146591970121383 and parameters: {'n_neighbors': 14}. Best is trial 21 with value: 0.3982684665646127.\u001b[0m\n",
      "\u001b[32m[I 2022-02-05 11:45:56,570]\u001b[0m Trial 34 finished with value: 0.08536527514231498 and parameters: {'n_neighbors': 22}. Best is trial 21 with value: 0.3982684665646127.\u001b[0m\n",
      "\u001b[32m[I 2022-02-05 11:45:56,697]\u001b[0m Trial 35 finished with value: 0.3395602240896358 and parameters: {'n_neighbors': 3}. Best is trial 21 with value: 0.3982684665646127.\u001b[0m\n",
      "\u001b[32m[I 2022-02-05 11:45:56,832]\u001b[0m Trial 36 finished with value: 0.23708149741525864 and parameters: {'n_neighbors': 10}. Best is trial 21 with value: 0.3982684665646127.\u001b[0m\n",
      "\u001b[32m[I 2022-02-05 11:45:56,981]\u001b[0m Trial 37 finished with value: 0.06176686217008798 and parameters: {'n_neighbors': 30}. Best is trial 21 with value: 0.3982684665646127.\u001b[0m\n",
      "\u001b[32m[I 2022-02-05 11:45:57,116]\u001b[0m Trial 38 finished with value: 0.0 and parameters: {'n_neighbors': 73}. Best is trial 21 with value: 0.3982684665646127.\u001b[0m\n",
      "\u001b[32m[I 2022-02-05 11:45:57,262]\u001b[0m Trial 39 finished with value: 0.07243976769593469 and parameters: {'n_neighbors': 18}. Best is trial 21 with value: 0.3982684665646127.\u001b[0m\n",
      "\u001b[32m[I 2022-02-05 11:45:57,398]\u001b[0m Trial 40 finished with value: 0.07426686217008797 and parameters: {'n_neighbors': 24}. Best is trial 21 with value: 0.3982684665646127.\u001b[0m\n",
      "\u001b[32m[I 2022-02-05 11:45:57,536]\u001b[0m Trial 41 finished with value: 0.36347352795645727 and parameters: {'n_neighbors': 6}. Best is trial 21 with value: 0.3982684665646127.\u001b[0m\n",
      "\u001b[32m[I 2022-02-05 11:45:57,669]\u001b[0m Trial 42 finished with value: 0.23082670906200317 and parameters: {'n_neighbors': 7}. Best is trial 21 with value: 0.3982684665646127.\u001b[0m\n",
      "\u001b[32m[I 2022-02-05 11:45:57,922]\u001b[0m Trial 43 finished with value: 0.061363636363636356 and parameters: {'n_neighbors': 13}. Best is trial 21 with value: 0.3982684665646127.\u001b[0m\n",
      "\u001b[32m[I 2022-02-05 11:45:58,155]\u001b[0m Trial 44 finished with value: 0.23082670906200317 and parameters: {'n_neighbors': 7}. Best is trial 21 with value: 0.3982684665646127.\u001b[0m\n",
      "\u001b[32m[I 2022-02-05 11:45:58,303]\u001b[0m Trial 45 finished with value: 0.3395602240896358 and parameters: {'n_neighbors': 3}. Best is trial 21 with value: 0.3982684665646127.\u001b[0m\n",
      "\u001b[32m[I 2022-02-05 11:45:58,507]\u001b[0m Trial 46 finished with value: 0.17467717717717718 and parameters: {'n_neighbors': 12}. Best is trial 21 with value: 0.3982684665646127.\u001b[0m\n",
      "\u001b[32m[I 2022-02-05 11:45:58,706]\u001b[0m Trial 47 finished with value: 0.0 and parameters: {'n_neighbors': 95}. Best is trial 21 with value: 0.3982684665646127.\u001b[0m\n",
      "\u001b[32m[I 2022-02-05 11:45:58,941]\u001b[0m Trial 48 finished with value: 0.0 and parameters: {'n_neighbors': 75}. Best is trial 21 with value: 0.3982684665646127.\u001b[0m\n",
      "\u001b[32m[I 2022-02-05 11:45:59,088]\u001b[0m Trial 49 finished with value: 0.08453654188948308 and parameters: {'n_neighbors': 16}. Best is trial 21 with value: 0.3982684665646127.\u001b[0m\n",
      "\u001b[32m[I 2022-02-05 11:45:59,222]\u001b[0m Trial 50 finished with value: 0.36347352795645727 and parameters: {'n_neighbors': 6}. Best is trial 21 with value: 0.3982684665646127.\u001b[0m\n",
      "\u001b[32m[I 2022-02-05 11:45:59,381]\u001b[0m Trial 51 finished with value: 0.23082670906200317 and parameters: {'n_neighbors': 7}. Best is trial 21 with value: 0.3982684665646127.\u001b[0m\n",
      "\u001b[32m[I 2022-02-05 11:45:59,636]\u001b[0m Trial 52 finished with value: 0.23082670906200317 and parameters: {'n_neighbors': 7}. Best is trial 21 with value: 0.3982684665646127.\u001b[0m\n",
      "\u001b[32m[I 2022-02-05 11:45:59,850]\u001b[0m Trial 53 finished with value: 0.03790322580645161 and parameters: {'n_neighbors': 17}. Best is trial 21 with value: 0.3982684665646127.\u001b[0m\n",
      "\u001b[32m[I 2022-02-05 11:46:00,044]\u001b[0m Trial 54 finished with value: 0.11983065953654189 and parameters: {'n_neighbors': 11}. Best is trial 21 with value: 0.3982684665646127.\u001b[0m\n",
      "\u001b[32m[I 2022-02-05 11:46:00,259]\u001b[0m Trial 55 finished with value: 0.3395602240896358 and parameters: {'n_neighbors': 3}. Best is trial 21 with value: 0.3982684665646127.\u001b[0m\n",
      "\u001b[32m[I 2022-02-05 11:46:00,472]\u001b[0m Trial 56 finished with value: 0.0 and parameters: {'n_neighbors': 81}. Best is trial 21 with value: 0.3982684665646127.\u001b[0m\n",
      "\u001b[32m[I 2022-02-05 11:46:00,613]\u001b[0m Trial 57 finished with value: 0.36347352795645727 and parameters: {'n_neighbors': 6}. Best is trial 21 with value: 0.3982684665646127.\u001b[0m\n",
      "\u001b[32m[I 2022-02-05 11:46:00,834]\u001b[0m Trial 58 finished with value: 0.0 and parameters: {'n_neighbors': 65}. Best is trial 21 with value: 0.3982684665646127.\u001b[0m\n",
      "\u001b[32m[I 2022-02-05 11:46:01,074]\u001b[0m Trial 59 finished with value: 0.07429130009775171 and parameters: {'n_neighbors': 20}. Best is trial 21 with value: 0.3982684665646127.\u001b[0m\n",
      "\u001b[32m[I 2022-02-05 11:46:01,330]\u001b[0m Trial 60 finished with value: 0.17467717717717718 and parameters: {'n_neighbors': 12}. Best is trial 21 with value: 0.3982684665646127.\u001b[0m\n",
      "\u001b[32m[I 2022-02-05 11:46:01,512]\u001b[0m Trial 61 finished with value: 0.36347352795645727 and parameters: {'n_neighbors': 6}. Best is trial 21 with value: 0.3982684665646127.\u001b[0m\n",
      "\u001b[32m[I 2022-02-05 11:46:01,680]\u001b[0m Trial 62 finished with value: 0.36347352795645727 and parameters: {'n_neighbors': 6}. Best is trial 21 with value: 0.3982684665646127.\u001b[0m\n",
      "\u001b[32m[I 2022-02-05 11:46:02,006]\u001b[0m Trial 63 finished with value: 0.16867590279354988 and parameters: {'n_neighbors': 9}. Best is trial 21 with value: 0.3982684665646127.\u001b[0m\n",
      "\u001b[32m[I 2022-02-05 11:46:02,176]\u001b[0m Trial 64 finished with value: 0.0375 and parameters: {'n_neighbors': 15}. Best is trial 21 with value: 0.3982684665646127.\u001b[0m\n",
      "\u001b[32m[I 2022-02-05 11:46:02,417]\u001b[0m Trial 65 finished with value: 0.3982684665646127 and parameters: {'n_neighbors': 4}. Best is trial 21 with value: 0.3982684665646127.\u001b[0m\n",
      "\u001b[32m[I 2022-02-05 11:46:02,561]\u001b[0m Trial 66 finished with value: 0.0 and parameters: {'n_neighbors': 50}. Best is trial 21 with value: 0.3982684665646127.\u001b[0m\n",
      "\u001b[32m[I 2022-02-05 11:46:02,694]\u001b[0m Trial 67 finished with value: 0.3395602240896358 and parameters: {'n_neighbors': 3}. Best is trial 21 with value: 0.3982684665646127.\u001b[0m\n",
      "\u001b[32m[I 2022-02-05 11:46:02,834]\u001b[0m Trial 68 finished with value: 0.17467717717717718 and parameters: {'n_neighbors': 12}. Best is trial 21 with value: 0.3982684665646127.\u001b[0m\n",
      "\u001b[32m[I 2022-02-05 11:46:02,994]\u001b[0m Trial 69 finished with value: 0.07426686217008797 and parameters: {'n_neighbors': 24}. Best is trial 21 with value: 0.3982684665646127.\u001b[0m\n",
      "\u001b[32m[I 2022-02-05 11:46:03,132]\u001b[0m Trial 70 finished with value: 0.03790322580645161 and parameters: {'n_neighbors': 19}. Best is trial 21 with value: 0.3982684665646127.\u001b[0m\n",
      "\u001b[32m[I 2022-02-05 11:46:03,282]\u001b[0m Trial 71 finished with value: 0.23708149741525864 and parameters: {'n_neighbors': 10}. Best is trial 21 with value: 0.3982684665646127.\u001b[0m\n",
      "\u001b[32m[I 2022-02-05 11:46:03,447]\u001b[0m Trial 72 finished with value: 0.31921827463517766 and parameters: {'n_neighbors': 5}. Best is trial 21 with value: 0.3982684665646127.\u001b[0m\n",
      "\u001b[32m[I 2022-02-05 11:46:03,603]\u001b[0m Trial 73 finished with value: 0.36347352795645727 and parameters: {'n_neighbors': 6}. Best is trial 21 with value: 0.3982684665646127.\u001b[0m\n",
      "\u001b[32m[I 2022-02-05 11:46:03,876]\u001b[0m Trial 74 finished with value: 0.0375 and parameters: {'n_neighbors': 15}. Best is trial 21 with value: 0.3982684665646127.\u001b[0m\n",
      "\u001b[32m[I 2022-02-05 11:46:04,114]\u001b[0m Trial 75 finished with value: 0.16867590279354988 and parameters: {'n_neighbors': 9}. Best is trial 21 with value: 0.3982684665646127.\u001b[0m\n",
      "\u001b[32m[I 2022-02-05 11:46:04,375]\u001b[0m Trial 76 finished with value: 0.3982684665646127 and parameters: {'n_neighbors': 4}. Best is trial 21 with value: 0.3982684665646127.\u001b[0m\n",
      "\u001b[32m[I 2022-02-05 11:46:04,651]\u001b[0m Trial 77 finished with value: 0.025806451612903226 and parameters: {'n_neighbors': 43}. Best is trial 21 with value: 0.3982684665646127.\u001b[0m\n",
      "\u001b[32m[I 2022-02-05 11:46:04,915]\u001b[0m Trial 78 finished with value: 0.3395602240896358 and parameters: {'n_neighbors': 3}. Best is trial 21 with value: 0.3982684665646127.\u001b[0m\n",
      "\u001b[32m[I 2022-02-05 11:46:05,058]\u001b[0m Trial 79 finished with value: 0.36347352795645727 and parameters: {'n_neighbors': 6}. Best is trial 21 with value: 0.3982684665646127.\u001b[0m\n",
      "\u001b[32m[I 2022-02-05 11:46:05,283]\u001b[0m Trial 80 finished with value: 0.0 and parameters: {'n_neighbors': 56}. Best is trial 21 with value: 0.3982684665646127.\u001b[0m\n",
      "\u001b[32m[I 2022-02-05 11:46:05,510]\u001b[0m Trial 81 finished with value: 0.16867590279354988 and parameters: {'n_neighbors': 9}. Best is trial 21 with value: 0.3982684665646127.\u001b[0m\n",
      "\u001b[32m[I 2022-02-05 11:46:05,773]\u001b[0m Trial 82 finished with value: 0.31921827463517766 and parameters: {'n_neighbors': 5}. Best is trial 21 with value: 0.3982684665646127.\u001b[0m\n",
      "\u001b[32m[I 2022-02-05 11:46:05,998]\u001b[0m Trial 83 finished with value: 0.061363636363636356 and parameters: {'n_neighbors': 13}. Best is trial 21 with value: 0.3982684665646127.\u001b[0m\n",
      "\u001b[32m[I 2022-02-05 11:46:06,278]\u001b[0m Trial 84 finished with value: 0.31921827463517766 and parameters: {'n_neighbors': 5}. Best is trial 21 with value: 0.3982684665646127.\u001b[0m\n",
      "\u001b[32m[I 2022-02-05 11:46:06,453]\u001b[0m Trial 85 finished with value: 0.16867590279354988 and parameters: {'n_neighbors': 9}. Best is trial 21 with value: 0.3982684665646127.\u001b[0m\n",
      "\u001b[32m[I 2022-02-05 11:46:06,672]\u001b[0m Trial 86 finished with value: 0.03790322580645161 and parameters: {'n_neighbors': 17}. Best is trial 21 with value: 0.3982684665646127.\u001b[0m\n",
      "\u001b[32m[I 2022-02-05 11:46:06,869]\u001b[0m Trial 87 finished with value: 0.17467717717717718 and parameters: {'n_neighbors': 12}. Best is trial 21 with value: 0.3982684665646127.\u001b[0m\n",
      "\u001b[32m[I 2022-02-05 11:46:07,039]\u001b[0m Trial 88 finished with value: 0.23082670906200317 and parameters: {'n_neighbors': 7}. Best is trial 21 with value: 0.3982684665646127.\u001b[0m\n",
      "\u001b[32m[I 2022-02-05 11:46:07,181]\u001b[0m Trial 89 finished with value: 0.31921827463517766 and parameters: {'n_neighbors': 5}. Best is trial 21 with value: 0.3982684665646127.\u001b[0m\n",
      "\u001b[32m[I 2022-02-05 11:46:07,381]\u001b[0m Trial 90 finished with value: 0.3395602240896358 and parameters: {'n_neighbors': 3}. Best is trial 21 with value: 0.3982684665646127.\u001b[0m\n",
      "\u001b[32m[I 2022-02-05 11:46:07,587]\u001b[0m Trial 91 finished with value: 0.2642116332360235 and parameters: {'n_neighbors': 8}. Best is trial 21 with value: 0.3982684665646127.\u001b[0m\n",
      "\u001b[32m[I 2022-02-05 11:46:07,827]\u001b[0m Trial 92 finished with value: 0.09146591970121383 and parameters: {'n_neighbors': 14}. Best is trial 21 with value: 0.3982684665646127.\u001b[0m\n",
      "\u001b[32m[I 2022-02-05 11:46:08,141]\u001b[0m Trial 93 finished with value: 0.11983065953654189 and parameters: {'n_neighbors': 11}. Best is trial 21 with value: 0.3982684665646127.\u001b[0m\n",
      "\u001b[32m[I 2022-02-05 11:46:08,394]\u001b[0m Trial 94 finished with value: 0.31921827463517766 and parameters: {'n_neighbors': 5}. Best is trial 21 with value: 0.3982684665646127.\u001b[0m\n",
      "\u001b[32m[I 2022-02-05 11:46:08,788]\u001b[0m Trial 95 finished with value: 0.36347352795645727 and parameters: {'n_neighbors': 6}. Best is trial 21 with value: 0.3982684665646127.\u001b[0m\n",
      "\u001b[32m[I 2022-02-05 11:46:09,041]\u001b[0m Trial 96 finished with value: 0.2642116332360235 and parameters: {'n_neighbors': 8}. Best is trial 21 with value: 0.3982684665646127.\u001b[0m\n",
      "\u001b[32m[I 2022-02-05 11:46:09,280]\u001b[0m Trial 97 finished with value: 0.31921827463517766 and parameters: {'n_neighbors': 5}. Best is trial 21 with value: 0.3982684665646127.\u001b[0m\n",
      "\u001b[32m[I 2022-02-05 11:46:09,457]\u001b[0m Trial 98 finished with value: 0.11983065953654189 and parameters: {'n_neighbors': 11}. Best is trial 21 with value: 0.3982684665646127.\u001b[0m\n",
      "\u001b[32m[I 2022-02-05 11:46:09,601]\u001b[0m Trial 99 finished with value: 0.08536527514231498 and parameters: {'n_neighbors': 22}. Best is trial 21 with value: 0.3982684665646127.\u001b[0m\n"
     ]
    }
   ],
   "source": [
    "study.optimize(objective, n_trials=100)"
   ]
  },
  {
   "cell_type": "code",
   "execution_count": 25,
   "metadata": {},
   "outputs": [
    {
     "data": {
      "text/plain": [
       "{'n_neighbors': 4}"
      ]
     },
     "execution_count": 25,
     "metadata": {},
     "output_type": "execute_result"
    }
   ],
   "source": [
    "study.best_params"
   ]
  },
  {
   "cell_type": "code",
   "execution_count": 26,
   "metadata": {},
   "outputs": [],
   "source": [
    "clf = Pipeline(steps=[\n",
    "    ('preprocessing', preprocessing),\n",
    "    ('clf', KNeighborsClassifier(n_neighbors=4))\n",
    "])"
   ]
  },
  {
   "cell_type": "code",
   "execution_count": 27,
   "metadata": {},
   "outputs": [
    {
     "data": {
      "text/plain": [
       "0.3982684665646127"
      ]
     },
     "execution_count": 27,
     "metadata": {},
     "output_type": "execute_result"
    }
   ],
   "source": [
    "cross_val_score(clf, X_train, y_train, cv=5, scoring=make_scorer(f1_score, pos_label='N')).mean()"
   ]
  },
  {
   "cell_type": "code",
   "execution_count": 28,
   "metadata": {
    "collapsed": true,
    "jupyter": {
     "outputs_hidden": true
    }
   },
   "outputs": [
    {
     "data": {
      "text/plain": [
       "Pipeline(steps=[('preprocessing',\n",
       "                 ColumnTransformer(transformers=[('categorical',\n",
       "                                                  Pipeline(steps=[('imputation',\n",
       "                                                                   SimpleImputer(strategy='most_frequent')),\n",
       "                                                                  ('ohe',\n",
       "                                                                   OneHotEncoder(handle_unknown='ignore'))]),\n",
       "                                                  ['Gender', 'Married',\n",
       "                                                   'Dependents', 'Education',\n",
       "                                                   'Self_Employed',\n",
       "                                                   'Loan_Amount_Term',\n",
       "                                                   'Property_Area']),\n",
       "                                                 ('numeric',\n",
       "                                                  Pipeline(steps=[('imputation',\n",
       "                                                                   SimpleImputer(strategy='median')),\n",
       "                                                                  ('scaling',\n",
       "                                                                   RobustScaler())]),\n",
       "                                                  ['ApplicantIncome',\n",
       "                                                   'CoapplicantIncome',\n",
       "                                                   'LoanAmount',\n",
       "                                                   'Credit_History'])])),\n",
       "                ('clf', KNeighborsClassifier(n_neighbors=4))])"
      ]
     },
     "execution_count": 28,
     "metadata": {},
     "output_type": "execute_result"
    }
   ],
   "source": [
    "clf.fit(X_train, y_train)"
   ]
  },
  {
   "cell_type": "code",
   "execution_count": 29,
   "metadata": {},
   "outputs": [
    {
     "data": {
      "text/plain": [
       "0.41237113402061853"
      ]
     },
     "execution_count": 29,
     "metadata": {},
     "output_type": "execute_result"
    }
   ],
   "source": [
    "f1_score(y_test, clf.predict(X_test), pos_label='N')"
   ]
  },
  {
   "cell_type": "code",
   "execution_count": 31,
   "metadata": {},
   "outputs": [],
   "source": [
    "def make_clf(n_neighbors, numeric_imputation, scaling_strategy, knn_weights):\n",
    "    categorical_preprocessing = Pipeline(steps=[\n",
    "        ('imputation', SimpleImputer(strategy='most_frequent')),\n",
    "        ('ohe', OneHotEncoder(handle_unknown='ignore'))\n",
    "    ])\n",
    "\n",
    "    if scaling_strategy == 'robust':\n",
    "        scaling = RobustScaler()\n",
    "    elif scaling_strategy == 'minmax':\n",
    "        scaling = MinMaxScaler()\n",
    "    elif scaling_strategy == 'standard':\n",
    "        scaling = StandardScaler()\n",
    "        \n",
    "    numeric_preprocessing = Pipeline(steps=[\n",
    "        ('imputation', SimpleImputer(strategy=numeric_imputation)),\n",
    "        ('scaling', scaling)\n",
    "    ])\n",
    "\n",
    "    preprocessing = ColumnTransformer(transformers=[\n",
    "        ('categorical', categorical_preprocessing, ['Gender', 'Married', 'Dependents', 'Education',\n",
    "                                                    'Self_Employed',\n",
    "                                                    'Loan_Amount_Term', 'Property_Area']),\n",
    "        ('numeric', numeric_preprocessing, ['ApplicantIncome', 'CoapplicantIncome',\n",
    "                                            'LoanAmount', 'Credit_History'])\n",
    "    ])\n",
    "\n",
    "    clf = Pipeline(steps=[\n",
    "        ('preprocessing', preprocessing),\n",
    "        ('clf', KNeighborsClassifier(n_neighbors=n_neighbors, weights=knn_weights))\n",
    "    ])\n",
    "    \n",
    "    return clf"
   ]
  },
  {
   "cell_type": "code",
   "execution_count": 32,
   "metadata": {},
   "outputs": [],
   "source": [
    "clf = make_clf(4, 'median', 'robust', 'uniform')"
   ]
  },
  {
   "cell_type": "code",
   "execution_count": 33,
   "metadata": {},
   "outputs": [
    {
     "data": {
      "text/plain": [
       "0.3982684665646127"
      ]
     },
     "execution_count": 33,
     "metadata": {},
     "output_type": "execute_result"
    }
   ],
   "source": [
    "cross_val_score(clf, X_train, y_train, cv=5, scoring=make_scorer(f1_score, pos_label='N')).mean()"
   ]
  },
  {
   "cell_type": "code",
   "execution_count": 34,
   "metadata": {
    "collapsed": true,
    "jupyter": {
     "outputs_hidden": true
    }
   },
   "outputs": [
    {
     "data": {
      "text/plain": [
       "Pipeline(steps=[('preprocessing',\n",
       "                 ColumnTransformer(transformers=[('categorical',\n",
       "                                                  Pipeline(steps=[('imputation',\n",
       "                                                                   SimpleImputer(strategy='most_frequent')),\n",
       "                                                                  ('ohe',\n",
       "                                                                   OneHotEncoder(handle_unknown='ignore'))]),\n",
       "                                                  ['Gender', 'Married',\n",
       "                                                   'Dependents', 'Education',\n",
       "                                                   'Self_Employed',\n",
       "                                                   'Loan_Amount_Term',\n",
       "                                                   'Property_Area']),\n",
       "                                                 ('numeric',\n",
       "                                                  Pipeline(steps=[('imputation',\n",
       "                                                                   SimpleImputer(strategy='median')),\n",
       "                                                                  ('scaling',\n",
       "                                                                   RobustScaler())]),\n",
       "                                                  ['ApplicantIncome',\n",
       "                                                   'CoapplicantIncome',\n",
       "                                                   'LoanAmount',\n",
       "                                                   'Credit_History'])])),\n",
       "                ('clf', KNeighborsClassifier(n_neighbors=4))])"
      ]
     },
     "execution_count": 34,
     "metadata": {},
     "output_type": "execute_result"
    }
   ],
   "source": [
    "clf.fit(X_train, y_train)"
   ]
  },
  {
   "cell_type": "code",
   "execution_count": 35,
   "metadata": {},
   "outputs": [
    {
     "data": {
      "text/plain": [
       "0.3483660130718954"
      ]
     },
     "execution_count": 35,
     "metadata": {},
     "output_type": "execute_result"
    }
   ],
   "source": [
    "cross_val_score(clf, X_test, y_test, cv=5, scoring=make_scorer(f1_score, pos_label='N')).mean()"
   ]
  },
  {
   "cell_type": "code",
   "execution_count": 37,
   "metadata": {},
   "outputs": [],
   "source": [
    "def objective(trial):\n",
    "    n_neighbors = trial.suggest_int('n_neighbors', 3, 101)\n",
    "    numeric_imputation = trial.suggest_categorical('numeric_imputation', [\n",
    "        'median', 'mean'\n",
    "    ])\n",
    "    scaling_strategy = trial.suggest_categorical('scaling_strategy', [\n",
    "        'robust', 'minmax', 'standard'\n",
    "    ])\n",
    "    knn_weights = trial.suggest_categorical('knn_weights', [\n",
    "        'uniform', 'distance'\n",
    "    ])\n",
    "    \n",
    "    clf = make_clf(n_neighbors, numeric_imputation, scaling_strategy, knn_weights)\n",
    "    \n",
    "    return cross_val_score(clf, X_train, y_train, cv=5, scoring=make_scorer(f1_score, pos_label='N')).mean()"
   ]
  },
  {
   "cell_type": "code",
   "execution_count": 38,
   "metadata": {},
   "outputs": [
    {
     "name": "stderr",
     "output_type": "stream",
     "text": [
      "\u001b[32m[I 2022-02-05 12:02:23,061]\u001b[0m A new study created in memory with name: no-name-312301aa-fc9a-4e3e-b0a2-710a71c174b7\u001b[0m\n"
     ]
    }
   ],
   "source": [
    "study = optuna.create_study(direction='maximize')"
   ]
  },
  {
   "cell_type": "code",
   "execution_count": 39,
   "metadata": {},
   "outputs": [
    {
     "name": "stderr",
     "output_type": "stream",
     "text": [
      "\u001b[32m[I 2022-02-05 12:02:42,946]\u001b[0m Trial 0 finished with value: 0.5392902446390819 and parameters: {'n_neighbors': 17, 'numeric_imputation': 'mean', 'scaling_strategy': 'standard', 'knn_weights': 'uniform'}. Best is trial 0 with value: 0.5392902446390819.\u001b[0m\n",
      "\u001b[32m[I 2022-02-05 12:02:43,164]\u001b[0m Trial 1 finished with value: 0.0 and parameters: {'n_neighbors': 52, 'numeric_imputation': 'mean', 'scaling_strategy': 'robust', 'knn_weights': 'uniform'}. Best is trial 0 with value: 0.5392902446390819.\u001b[0m\n",
      "\u001b[32m[I 2022-02-05 12:02:43,276]\u001b[0m Trial 2 finished with value: 0.5458441558441559 and parameters: {'n_neighbors': 41, 'numeric_imputation': 'mean', 'scaling_strategy': 'standard', 'knn_weights': 'distance'}. Best is trial 2 with value: 0.5458441558441559.\u001b[0m\n",
      "\u001b[32m[I 2022-02-05 12:02:43,486]\u001b[0m Trial 3 finished with value: 0.5458441558441559 and parameters: {'n_neighbors': 35, 'numeric_imputation': 'mean', 'scaling_strategy': 'standard', 'knn_weights': 'uniform'}. Best is trial 2 with value: 0.5458441558441559.\u001b[0m\n",
      "\u001b[32m[I 2022-02-05 12:02:43,650]\u001b[0m Trial 4 finished with value: 0.5458441558441559 and parameters: {'n_neighbors': 70, 'numeric_imputation': 'mean', 'scaling_strategy': 'standard', 'knn_weights': 'uniform'}. Best is trial 2 with value: 0.5458441558441559.\u001b[0m\n",
      "\u001b[32m[I 2022-02-05 12:02:43,831]\u001b[0m Trial 5 finished with value: 0.0 and parameters: {'n_neighbors': 85, 'numeric_imputation': 'median', 'scaling_strategy': 'robust', 'knn_weights': 'distance'}. Best is trial 2 with value: 0.5458441558441559.\u001b[0m\n",
      "\u001b[32m[I 2022-02-05 12:02:43,961]\u001b[0m Trial 6 finished with value: 0.12056810994192398 and parameters: {'n_neighbors': 44, 'numeric_imputation': 'median', 'scaling_strategy': 'minmax', 'knn_weights': 'uniform'}. Best is trial 2 with value: 0.5458441558441559.\u001b[0m\n",
      "\u001b[32m[I 2022-02-05 12:02:44,091]\u001b[0m Trial 7 finished with value: 0.03790322580645161 and parameters: {'n_neighbors': 76, 'numeric_imputation': 'mean', 'scaling_strategy': 'minmax', 'knn_weights': 'uniform'}. Best is trial 2 with value: 0.5458441558441559.\u001b[0m\n",
      "\u001b[32m[I 2022-02-05 12:02:44,243]\u001b[0m Trial 8 finished with value: 0.2189189189189189 and parameters: {'n_neighbors': 7, 'numeric_imputation': 'mean', 'scaling_strategy': 'robust', 'knn_weights': 'uniform'}. Best is trial 2 with value: 0.5458441558441559.\u001b[0m\n",
      "\u001b[32m[I 2022-02-05 12:02:44,384]\u001b[0m Trial 9 finished with value: 0.14471617092584835 and parameters: {'n_neighbors': 32, 'numeric_imputation': 'median', 'scaling_strategy': 'minmax', 'knn_weights': 'uniform'}. Best is trial 2 with value: 0.5458441558441559.\u001b[0m\n",
      "\u001b[32m[I 2022-02-05 12:02:44,510]\u001b[0m Trial 10 finished with value: 0.548381153729991 and parameters: {'n_neighbors': 66, 'numeric_imputation': 'mean', 'scaling_strategy': 'standard', 'knn_weights': 'distance'}. Best is trial 10 with value: 0.548381153729991.\u001b[0m\n",
      "\u001b[32m[I 2022-02-05 12:02:44,637]\u001b[0m Trial 11 finished with value: 0.548381153729991 and parameters: {'n_neighbors': 64, 'numeric_imputation': 'mean', 'scaling_strategy': 'standard', 'knn_weights': 'distance'}. Best is trial 10 with value: 0.548381153729991.\u001b[0m\n",
      "\u001b[32m[I 2022-02-05 12:02:44,765]\u001b[0m Trial 12 finished with value: 0.548381153729991 and parameters: {'n_neighbors': 64, 'numeric_imputation': 'mean', 'scaling_strategy': 'standard', 'knn_weights': 'distance'}. Best is trial 10 with value: 0.548381153729991.\u001b[0m\n",
      "\u001b[32m[I 2022-02-05 12:02:44,894]\u001b[0m Trial 13 finished with value: 0.541827242524917 and parameters: {'n_neighbors': 101, 'numeric_imputation': 'mean', 'scaling_strategy': 'standard', 'knn_weights': 'distance'}. Best is trial 10 with value: 0.548381153729991.\u001b[0m\n",
      "\u001b[32m[I 2022-02-05 12:02:45,025]\u001b[0m Trial 14 finished with value: 0.548381153729991 and parameters: {'n_neighbors': 60, 'numeric_imputation': 'mean', 'scaling_strategy': 'standard', 'knn_weights': 'distance'}. Best is trial 10 with value: 0.548381153729991.\u001b[0m\n",
      "\u001b[32m[I 2022-02-05 12:02:45,157]\u001b[0m Trial 15 finished with value: 0.541827242524917 and parameters: {'n_neighbors': 86, 'numeric_imputation': 'median', 'scaling_strategy': 'standard', 'knn_weights': 'distance'}. Best is trial 10 with value: 0.548381153729991.\u001b[0m\n",
      "\u001b[32m[I 2022-02-05 12:02:45,275]\u001b[0m Trial 16 finished with value: 0.5458441558441559 and parameters: {'n_neighbors': 56, 'numeric_imputation': 'mean', 'scaling_strategy': 'standard', 'knn_weights': 'distance'}. Best is trial 10 with value: 0.548381153729991.\u001b[0m\n",
      "\u001b[32m[I 2022-02-05 12:02:45,463]\u001b[0m Trial 17 finished with value: 0.5458441558441559 and parameters: {'n_neighbors': 54, 'numeric_imputation': 'mean', 'scaling_strategy': 'standard', 'knn_weights': 'distance'}. Best is trial 10 with value: 0.548381153729991.\u001b[0m\n",
      "\u001b[32m[I 2022-02-05 12:02:45,681]\u001b[0m Trial 18 finished with value: 0.31229325550010983 and parameters: {'n_neighbors': 24, 'numeric_imputation': 'median', 'scaling_strategy': 'minmax', 'knn_weights': 'distance'}. Best is trial 10 with value: 0.548381153729991.\u001b[0m\n",
      "\u001b[32m[I 2022-02-05 12:02:45,914]\u001b[0m Trial 19 finished with value: 0.0 and parameters: {'n_neighbors': 82, 'numeric_imputation': 'mean', 'scaling_strategy': 'robust', 'knn_weights': 'distance'}. Best is trial 10 with value: 0.548381153729991.\u001b[0m\n",
      "\u001b[32m[I 2022-02-05 12:02:46,209]\u001b[0m Trial 20 finished with value: 0.541827242524917 and parameters: {'n_neighbors': 95, 'numeric_imputation': 'mean', 'scaling_strategy': 'standard', 'knn_weights': 'distance'}. Best is trial 10 with value: 0.548381153729991.\u001b[0m\n",
      "\u001b[32m[I 2022-02-05 12:02:46,341]\u001b[0m Trial 21 finished with value: 0.548381153729991 and parameters: {'n_neighbors': 64, 'numeric_imputation': 'mean', 'scaling_strategy': 'standard', 'knn_weights': 'distance'}. Best is trial 10 with value: 0.548381153729991.\u001b[0m\n",
      "\u001b[32m[I 2022-02-05 12:02:46,546]\u001b[0m Trial 22 finished with value: 0.5458441558441559 and parameters: {'n_neighbors': 62, 'numeric_imputation': 'mean', 'scaling_strategy': 'standard', 'knn_weights': 'distance'}. Best is trial 10 with value: 0.548381153729991.\u001b[0m\n",
      "\u001b[32m[I 2022-02-05 12:02:46,678]\u001b[0m Trial 23 finished with value: 0.5458441558441559 and parameters: {'n_neighbors': 73, 'numeric_imputation': 'mean', 'scaling_strategy': 'standard', 'knn_weights': 'distance'}. Best is trial 10 with value: 0.548381153729991.\u001b[0m\n",
      "\u001b[32m[I 2022-02-05 12:02:46,800]\u001b[0m Trial 24 finished with value: 0.5458441558441559 and parameters: {'n_neighbors': 59, 'numeric_imputation': 'mean', 'scaling_strategy': 'standard', 'knn_weights': 'distance'}. Best is trial 10 with value: 0.548381153729991.\u001b[0m\n",
      "\u001b[32m[I 2022-02-05 12:02:46,932]\u001b[0m Trial 25 finished with value: 0.5392902446390819 and parameters: {'n_neighbors': 45, 'numeric_imputation': 'mean', 'scaling_strategy': 'standard', 'knn_weights': 'distance'}. Best is trial 10 with value: 0.548381153729991.\u001b[0m\n",
      "\u001b[32m[I 2022-02-05 12:02:47,105]\u001b[0m Trial 26 finished with value: 0.5458441558441559 and parameters: {'n_neighbors': 69, 'numeric_imputation': 'median', 'scaling_strategy': 'standard', 'knn_weights': 'distance'}. Best is trial 10 with value: 0.548381153729991.\u001b[0m\n",
      "\u001b[32m[I 2022-02-05 12:02:47,330]\u001b[0m Trial 27 finished with value: 0.5392902446390819 and parameters: {'n_neighbors': 79, 'numeric_imputation': 'mean', 'scaling_strategy': 'standard', 'knn_weights': 'distance'}. Best is trial 10 with value: 0.548381153729991.\u001b[0m\n",
      "\u001b[32m[I 2022-02-05 12:02:47,495]\u001b[0m Trial 28 finished with value: 0.2610107194189351 and parameters: {'n_neighbors': 50, 'numeric_imputation': 'mean', 'scaling_strategy': 'minmax', 'knn_weights': 'distance'}. Best is trial 10 with value: 0.548381153729991.\u001b[0m\n",
      "\u001b[32m[I 2022-02-05 12:02:47,733]\u001b[0m Trial 29 finished with value: 0.0 and parameters: {'n_neighbors': 92, 'numeric_imputation': 'mean', 'scaling_strategy': 'robust', 'knn_weights': 'distance'}. Best is trial 10 with value: 0.548381153729991.\u001b[0m\n",
      "\u001b[32m[I 2022-02-05 12:02:47,873]\u001b[0m Trial 30 finished with value: 0.5458441558441559 and parameters: {'n_neighbors': 36, 'numeric_imputation': 'mean', 'scaling_strategy': 'standard', 'knn_weights': 'distance'}. Best is trial 10 with value: 0.548381153729991.\u001b[0m\n",
      "\u001b[32m[I 2022-02-05 12:02:48,016]\u001b[0m Trial 31 finished with value: 0.548381153729991 and parameters: {'n_neighbors': 66, 'numeric_imputation': 'mean', 'scaling_strategy': 'standard', 'knn_weights': 'distance'}. Best is trial 10 with value: 0.548381153729991.\u001b[0m\n",
      "\u001b[32m[I 2022-02-05 12:02:48,155]\u001b[0m Trial 32 finished with value: 0.5458441558441559 and parameters: {'n_neighbors': 61, 'numeric_imputation': 'mean', 'scaling_strategy': 'standard', 'knn_weights': 'distance'}. Best is trial 10 with value: 0.548381153729991.\u001b[0m\n",
      "\u001b[32m[I 2022-02-05 12:02:48,279]\u001b[0m Trial 33 finished with value: 0.5458441558441559 and parameters: {'n_neighbors': 68, 'numeric_imputation': 'mean', 'scaling_strategy': 'standard', 'knn_weights': 'distance'}. Best is trial 10 with value: 0.548381153729991.\u001b[0m\n",
      "\u001b[32m[I 2022-02-05 12:02:48,415]\u001b[0m Trial 34 finished with value: 0.5458441558441559 and parameters: {'n_neighbors': 49, 'numeric_imputation': 'mean', 'scaling_strategy': 'standard', 'knn_weights': 'distance'}. Best is trial 10 with value: 0.548381153729991.\u001b[0m\n",
      "\u001b[32m[I 2022-02-05 12:02:48,552]\u001b[0m Trial 35 finished with value: 0.5458441558441559 and parameters: {'n_neighbors': 75, 'numeric_imputation': 'mean', 'scaling_strategy': 'standard', 'knn_weights': 'distance'}. Best is trial 10 with value: 0.548381153729991.\u001b[0m\n",
      "\u001b[32m[I 2022-02-05 12:02:48,671]\u001b[0m Trial 36 finished with value: 0.548381153729991 and parameters: {'n_neighbors': 65, 'numeric_imputation': 'mean', 'scaling_strategy': 'standard', 'knn_weights': 'distance'}. Best is trial 10 with value: 0.548381153729991.\u001b[0m\n",
      "\u001b[32m[I 2022-02-05 12:02:48,802]\u001b[0m Trial 37 finished with value: 0.0 and parameters: {'n_neighbors': 58, 'numeric_imputation': 'mean', 'scaling_strategy': 'robust', 'knn_weights': 'uniform'}. Best is trial 10 with value: 0.548381153729991.\u001b[0m\n",
      "\u001b[32m[I 2022-02-05 12:02:48,934]\u001b[0m Trial 38 finished with value: 0.541827242524917 and parameters: {'n_neighbors': 72, 'numeric_imputation': 'median', 'scaling_strategy': 'standard', 'knn_weights': 'distance'}. Best is trial 10 with value: 0.548381153729991.\u001b[0m\n",
      "\u001b[32m[I 2022-02-05 12:02:49,075]\u001b[0m Trial 39 finished with value: 0.548381153729991 and parameters: {'n_neighbors': 53, 'numeric_imputation': 'mean', 'scaling_strategy': 'standard', 'knn_weights': 'uniform'}. Best is trial 10 with value: 0.548381153729991.\u001b[0m\n",
      "\u001b[32m[I 2022-02-05 12:02:49,245]\u001b[0m Trial 40 finished with value: 0.1228921568627451 and parameters: {'n_neighbors': 41, 'numeric_imputation': 'mean', 'scaling_strategy': 'minmax', 'knn_weights': 'uniform'}. Best is trial 10 with value: 0.548381153729991.\u001b[0m\n",
      "\u001b[32m[I 2022-02-05 12:02:49,374]\u001b[0m Trial 41 finished with value: 0.548381153729991 and parameters: {'n_neighbors': 66, 'numeric_imputation': 'mean', 'scaling_strategy': 'standard', 'knn_weights': 'distance'}. Best is trial 10 with value: 0.548381153729991.\u001b[0m\n",
      "\u001b[32m[I 2022-02-05 12:02:49,498]\u001b[0m Trial 42 finished with value: 0.5392902446390819 and parameters: {'n_neighbors': 77, 'numeric_imputation': 'mean', 'scaling_strategy': 'standard', 'knn_weights': 'distance'}. Best is trial 10 with value: 0.548381153729991.\u001b[0m\n",
      "\u001b[32m[I 2022-02-05 12:02:49,632]\u001b[0m Trial 43 finished with value: 0.5458441558441559 and parameters: {'n_neighbors': 54, 'numeric_imputation': 'mean', 'scaling_strategy': 'standard', 'knn_weights': 'uniform'}. Best is trial 10 with value: 0.548381153729991.\u001b[0m\n",
      "\u001b[32m[I 2022-02-05 12:02:49,759]\u001b[0m Trial 44 finished with value: 0.5458441558441559 and parameters: {'n_neighbors': 62, 'numeric_imputation': 'mean', 'scaling_strategy': 'standard', 'knn_weights': 'distance'}. Best is trial 10 with value: 0.548381153729991.\u001b[0m\n",
      "\u001b[32m[I 2022-02-05 12:02:49,889]\u001b[0m Trial 45 finished with value: 0.0 and parameters: {'n_neighbors': 49, 'numeric_imputation': 'mean', 'scaling_strategy': 'robust', 'knn_weights': 'uniform'}. Best is trial 10 with value: 0.548381153729991.\u001b[0m\n",
      "\u001b[32m[I 2022-02-05 12:02:50,005]\u001b[0m Trial 46 finished with value: 0.4903720462543991 and parameters: {'n_neighbors': 5, 'numeric_imputation': 'median', 'scaling_strategy': 'standard', 'knn_weights': 'distance'}. Best is trial 10 with value: 0.548381153729991.\u001b[0m\n",
      "\u001b[32m[I 2022-02-05 12:02:50,154]\u001b[0m Trial 47 finished with value: 0.541827242524917 and parameters: {'n_neighbors': 84, 'numeric_imputation': 'mean', 'scaling_strategy': 'standard', 'knn_weights': 'distance'}. Best is trial 10 with value: 0.548381153729991.\u001b[0m\n",
      "\u001b[32m[I 2022-02-05 12:02:50,332]\u001b[0m Trial 48 finished with value: 0.03790322580645161 and parameters: {'n_neighbors': 68, 'numeric_imputation': 'mean', 'scaling_strategy': 'minmax', 'knn_weights': 'uniform'}. Best is trial 10 with value: 0.548381153729991.\u001b[0m\n",
      "\u001b[32m[I 2022-02-05 12:02:50,470]\u001b[0m Trial 49 finished with value: 0.548381153729991 and parameters: {'n_neighbors': 56, 'numeric_imputation': 'median', 'scaling_strategy': 'standard', 'knn_weights': 'uniform'}. Best is trial 10 with value: 0.548381153729991.\u001b[0m\n",
      "\u001b[32m[I 2022-02-05 12:02:50,600]\u001b[0m Trial 50 finished with value: 0.5392902446390819 and parameters: {'n_neighbors': 44, 'numeric_imputation': 'median', 'scaling_strategy': 'standard', 'knn_weights': 'uniform'}. Best is trial 10 with value: 0.548381153729991.\u001b[0m\n",
      "\u001b[32m[I 2022-02-05 12:02:50,729]\u001b[0m Trial 51 finished with value: 0.5458441558441559 and parameters: {'n_neighbors': 52, 'numeric_imputation': 'mean', 'scaling_strategy': 'standard', 'knn_weights': 'uniform'}. Best is trial 10 with value: 0.548381153729991.\u001b[0m\n",
      "\u001b[32m[I 2022-02-05 12:02:50,849]\u001b[0m Trial 52 finished with value: 0.548381153729991 and parameters: {'n_neighbors': 66, 'numeric_imputation': 'mean', 'scaling_strategy': 'standard', 'knn_weights': 'distance'}. Best is trial 10 with value: 0.548381153729991.\u001b[0m\n",
      "\u001b[32m[I 2022-02-05 12:02:50,967]\u001b[0m Trial 53 finished with value: 0.5458441558441559 and parameters: {'n_neighbors': 63, 'numeric_imputation': 'mean', 'scaling_strategy': 'standard', 'knn_weights': 'distance'}. Best is trial 10 with value: 0.548381153729991.\u001b[0m\n",
      "\u001b[32m[I 2022-02-05 12:02:51,086]\u001b[0m Trial 54 finished with value: 0.5458441558441559 and parameters: {'n_neighbors': 71, 'numeric_imputation': 'mean', 'scaling_strategy': 'standard', 'knn_weights': 'distance'}. Best is trial 10 with value: 0.548381153729991.\u001b[0m\n",
      "\u001b[32m[I 2022-02-05 12:02:51,239]\u001b[0m Trial 55 finished with value: 0.5458441558441559 and parameters: {'n_neighbors': 59, 'numeric_imputation': 'mean', 'scaling_strategy': 'standard', 'knn_weights': 'distance'}. Best is trial 10 with value: 0.548381153729991.\u001b[0m\n",
      "\u001b[32m[I 2022-02-05 12:02:51,379]\u001b[0m Trial 56 finished with value: 0.0 and parameters: {'n_neighbors': 81, 'numeric_imputation': 'mean', 'scaling_strategy': 'robust', 'knn_weights': 'distance'}. Best is trial 10 with value: 0.548381153729991.\u001b[0m\n",
      "\u001b[32m[I 2022-02-05 12:02:51,511]\u001b[0m Trial 57 finished with value: 0.5392902446390819 and parameters: {'n_neighbors': 20, 'numeric_imputation': 'mean', 'scaling_strategy': 'standard', 'knn_weights': 'uniform'}. Best is trial 10 with value: 0.548381153729991.\u001b[0m\n",
      "\u001b[32m[I 2022-02-05 12:02:51,633]\u001b[0m Trial 58 finished with value: 0.21885662752535814 and parameters: {'n_neighbors': 75, 'numeric_imputation': 'mean', 'scaling_strategy': 'minmax', 'knn_weights': 'distance'}. Best is trial 10 with value: 0.548381153729991.\u001b[0m\n",
      "\u001b[32m[I 2022-02-05 12:02:51,760]\u001b[0m Trial 59 finished with value: 0.5458441558441559 and parameters: {'n_neighbors': 63, 'numeric_imputation': 'mean', 'scaling_strategy': 'standard', 'knn_weights': 'distance'}. Best is trial 10 with value: 0.548381153729991.\u001b[0m\n",
      "\u001b[32m[I 2022-02-05 12:02:51,885]\u001b[0m Trial 60 finished with value: 0.548381153729991 and parameters: {'n_neighbors': 57, 'numeric_imputation': 'median', 'scaling_strategy': 'standard', 'knn_weights': 'uniform'}. Best is trial 10 with value: 0.548381153729991.\u001b[0m\n",
      "\u001b[32m[I 2022-02-05 12:02:52,021]\u001b[0m Trial 61 finished with value: 0.548381153729991 and parameters: {'n_neighbors': 58, 'numeric_imputation': 'median', 'scaling_strategy': 'standard', 'knn_weights': 'uniform'}. Best is trial 10 with value: 0.548381153729991.\u001b[0m\n",
      "\u001b[32m[I 2022-02-05 12:02:52,191]\u001b[0m Trial 62 finished with value: 0.5458441558441559 and parameters: {'n_neighbors': 66, 'numeric_imputation': 'median', 'scaling_strategy': 'standard', 'knn_weights': 'uniform'}. Best is trial 10 with value: 0.548381153729991.\u001b[0m\n",
      "\u001b[32m[I 2022-02-05 12:02:52,386]\u001b[0m Trial 63 finished with value: 0.5392902446390819 and parameters: {'n_neighbors': 47, 'numeric_imputation': 'median', 'scaling_strategy': 'standard', 'knn_weights': 'uniform'}. Best is trial 10 with value: 0.548381153729991.\u001b[0m\n",
      "\u001b[32m[I 2022-02-05 12:02:52,625]\u001b[0m Trial 64 finished with value: 0.5458441558441559 and parameters: {'n_neighbors': 66, 'numeric_imputation': 'median', 'scaling_strategy': 'standard', 'knn_weights': 'uniform'}. Best is trial 10 with value: 0.548381153729991.\u001b[0m\n",
      "\u001b[32m[I 2022-02-05 12:02:52,880]\u001b[0m Trial 65 finished with value: 0.548381153729991 and parameters: {'n_neighbors': 56, 'numeric_imputation': 'median', 'scaling_strategy': 'standard', 'knn_weights': 'uniform'}. Best is trial 10 with value: 0.548381153729991.\u001b[0m\n",
      "\u001b[32m[I 2022-02-05 12:02:53,097]\u001b[0m Trial 66 finished with value: 0.5458441558441559 and parameters: {'n_neighbors': 54, 'numeric_imputation': 'mean', 'scaling_strategy': 'standard', 'knn_weights': 'distance'}. Best is trial 10 with value: 0.548381153729991.\u001b[0m\n",
      "\u001b[32m[I 2022-02-05 12:02:53,297]\u001b[0m Trial 67 finished with value: 0.5458441558441559 and parameters: {'n_neighbors': 70, 'numeric_imputation': 'mean', 'scaling_strategy': 'standard', 'knn_weights': 'distance'}. Best is trial 10 with value: 0.548381153729991.\u001b[0m\n",
      "\u001b[32m[I 2022-02-05 12:02:53,493]\u001b[0m Trial 68 finished with value: 0.0 and parameters: {'n_neighbors': 53, 'numeric_imputation': 'mean', 'scaling_strategy': 'robust', 'knn_weights': 'distance'}. Best is trial 10 with value: 0.548381153729991.\u001b[0m\n",
      "\u001b[32m[I 2022-02-05 12:02:53,620]\u001b[0m Trial 69 finished with value: 0.5458441558441559 and parameters: {'n_neighbors': 59, 'numeric_imputation': 'median', 'scaling_strategy': 'standard', 'knn_weights': 'distance'}. Best is trial 10 with value: 0.548381153729991.\u001b[0m\n",
      "\u001b[32m[I 2022-02-05 12:02:53,746]\u001b[0m Trial 70 finished with value: 0.2083303117358845 and parameters: {'n_neighbors': 73, 'numeric_imputation': 'mean', 'scaling_strategy': 'minmax', 'knn_weights': 'distance'}. Best is trial 10 with value: 0.548381153729991.\u001b[0m\n",
      "\u001b[32m[I 2022-02-05 12:02:53,874]\u001b[0m Trial 71 finished with value: 0.548381153729991 and parameters: {'n_neighbors': 56, 'numeric_imputation': 'median', 'scaling_strategy': 'standard', 'knn_weights': 'uniform'}. Best is trial 10 with value: 0.548381153729991.\u001b[0m\n",
      "\u001b[32m[I 2022-02-05 12:02:54,055]\u001b[0m Trial 72 finished with value: 0.548381153729991 and parameters: {'n_neighbors': 65, 'numeric_imputation': 'median', 'scaling_strategy': 'standard', 'knn_weights': 'uniform'}. Best is trial 10 with value: 0.548381153729991.\u001b[0m\n",
      "\u001b[32m[I 2022-02-05 12:02:54,299]\u001b[0m Trial 73 finished with value: 0.5392902446390819 and parameters: {'n_neighbors': 39, 'numeric_imputation': 'median', 'scaling_strategy': 'standard', 'knn_weights': 'uniform'}. Best is trial 10 with value: 0.548381153729991.\u001b[0m\n",
      "\u001b[32m[I 2022-02-05 12:02:54,559]\u001b[0m Trial 74 finished with value: 0.5458441558441559 and parameters: {'n_neighbors': 64, 'numeric_imputation': 'median', 'scaling_strategy': 'standard', 'knn_weights': 'uniform'}. Best is trial 10 with value: 0.548381153729991.\u001b[0m\n",
      "\u001b[32m[I 2022-02-05 12:02:54,820]\u001b[0m Trial 75 finished with value: 0.548381153729991 and parameters: {'n_neighbors': 60, 'numeric_imputation': 'mean', 'scaling_strategy': 'standard', 'knn_weights': 'uniform'}. Best is trial 10 with value: 0.548381153729991.\u001b[0m\n",
      "\u001b[32m[I 2022-02-05 12:02:55,163]\u001b[0m Trial 76 finished with value: 0.5458441558441559 and parameters: {'n_neighbors': 51, 'numeric_imputation': 'mean', 'scaling_strategy': 'standard', 'knn_weights': 'uniform'}. Best is trial 10 with value: 0.548381153729991.\u001b[0m\n",
      "\u001b[32m[I 2022-02-05 12:02:55,360]\u001b[0m Trial 77 finished with value: 0.541827242524917 and parameters: {'n_neighbors': 78, 'numeric_imputation': 'median', 'scaling_strategy': 'standard', 'knn_weights': 'distance'}. Best is trial 10 with value: 0.548381153729991.\u001b[0m\n",
      "\u001b[32m[I 2022-02-05 12:02:55,582]\u001b[0m Trial 78 finished with value: 0.5458441558441559 and parameters: {'n_neighbors': 69, 'numeric_imputation': 'mean', 'scaling_strategy': 'standard', 'knn_weights': 'distance'}. Best is trial 10 with value: 0.548381153729991.\u001b[0m\n",
      "\u001b[32m[I 2022-02-05 12:02:55,833]\u001b[0m Trial 79 finished with value: 0.5458441558441559 and parameters: {'n_neighbors': 46, 'numeric_imputation': 'mean', 'scaling_strategy': 'standard', 'knn_weights': 'uniform'}. Best is trial 10 with value: 0.548381153729991.\u001b[0m\n",
      "\u001b[32m[I 2022-02-05 12:02:56,018]\u001b[0m Trial 80 finished with value: 0.5458441558441559 and parameters: {'n_neighbors': 56, 'numeric_imputation': 'mean', 'scaling_strategy': 'standard', 'knn_weights': 'distance'}. Best is trial 10 with value: 0.548381153729991.\u001b[0m\n",
      "\u001b[32m[I 2022-02-05 12:02:56,173]\u001b[0m Trial 81 finished with value: 0.5458441558441559 and parameters: {'n_neighbors': 65, 'numeric_imputation': 'median', 'scaling_strategy': 'standard', 'knn_weights': 'distance'}. Best is trial 10 with value: 0.548381153729991.\u001b[0m\n",
      "\u001b[32m[I 2022-02-05 12:02:56,374]\u001b[0m Trial 82 finished with value: 0.548381153729991 and parameters: {'n_neighbors': 61, 'numeric_imputation': 'median', 'scaling_strategy': 'standard', 'knn_weights': 'uniform'}. Best is trial 10 with value: 0.548381153729991.\u001b[0m\n",
      "\u001b[32m[I 2022-02-05 12:02:56,578]\u001b[0m Trial 83 finished with value: 0.548381153729991 and parameters: {'n_neighbors': 56, 'numeric_imputation': 'median', 'scaling_strategy': 'standard', 'knn_weights': 'uniform'}. Best is trial 10 with value: 0.548381153729991.\u001b[0m\n",
      "\u001b[32m[I 2022-02-05 12:02:56,725]\u001b[0m Trial 84 finished with value: 0.548381153729991 and parameters: {'n_neighbors': 59, 'numeric_imputation': 'median', 'scaling_strategy': 'standard', 'knn_weights': 'uniform'}. Best is trial 10 with value: 0.548381153729991.\u001b[0m\n",
      "\u001b[32m[I 2022-02-05 12:02:56,901]\u001b[0m Trial 85 finished with value: 0.541827242524917 and parameters: {'n_neighbors': 49, 'numeric_imputation': 'median', 'scaling_strategy': 'standard', 'knn_weights': 'uniform'}. Best is trial 10 with value: 0.548381153729991.\u001b[0m\n",
      "\u001b[32m[I 2022-02-05 12:02:57,039]\u001b[0m Trial 86 finished with value: 0.548381153729991 and parameters: {'n_neighbors': 62, 'numeric_imputation': 'median', 'scaling_strategy': 'standard', 'knn_weights': 'uniform'}. Best is trial 10 with value: 0.548381153729991.\u001b[0m\n",
      "\u001b[32m[I 2022-02-05 12:02:57,253]\u001b[0m Trial 87 finished with value: 0.548381153729991 and parameters: {'n_neighbors': 57, 'numeric_imputation': 'median', 'scaling_strategy': 'standard', 'knn_weights': 'uniform'}. Best is trial 10 with value: 0.548381153729991.\u001b[0m\n",
      "\u001b[32m[I 2022-02-05 12:02:57,447]\u001b[0m Trial 88 finished with value: 0.0 and parameters: {'n_neighbors': 68, 'numeric_imputation': 'median', 'scaling_strategy': 'robust', 'knn_weights': 'uniform'}. Best is trial 10 with value: 0.548381153729991.\u001b[0m\n",
      "\u001b[32m[I 2022-02-05 12:02:57,664]\u001b[0m Trial 89 finished with value: 0.5458441558441559 and parameters: {'n_neighbors': 60, 'numeric_imputation': 'median', 'scaling_strategy': 'standard', 'knn_weights': 'uniform'}. Best is trial 10 with value: 0.548381153729991.\u001b[0m\n",
      "\u001b[32m[I 2022-02-05 12:02:57,826]\u001b[0m Trial 90 finished with value: 0.5458441558441559 and parameters: {'n_neighbors': 52, 'numeric_imputation': 'mean', 'scaling_strategy': 'standard', 'knn_weights': 'uniform'}. Best is trial 10 with value: 0.548381153729991.\u001b[0m\n",
      "\u001b[32m[I 2022-02-05 12:02:57,955]\u001b[0m Trial 91 finished with value: 0.5458441558441559 and parameters: {'n_neighbors': 67, 'numeric_imputation': 'mean', 'scaling_strategy': 'standard', 'knn_weights': 'distance'}. Best is trial 10 with value: 0.548381153729991.\u001b[0m\n",
      "\u001b[32m[I 2022-02-05 12:02:58,093]\u001b[0m Trial 92 finished with value: 0.548381153729991 and parameters: {'n_neighbors': 61, 'numeric_imputation': 'median', 'scaling_strategy': 'standard', 'knn_weights': 'uniform'}. Best is trial 10 with value: 0.548381153729991.\u001b[0m\n",
      "\u001b[32m[I 2022-02-05 12:02:58,243]\u001b[0m Trial 93 finished with value: 0.548381153729991 and parameters: {'n_neighbors': 55, 'numeric_imputation': 'median', 'scaling_strategy': 'standard', 'knn_weights': 'uniform'}. Best is trial 10 with value: 0.548381153729991.\u001b[0m\n",
      "\u001b[32m[I 2022-02-05 12:02:58,379]\u001b[0m Trial 94 finished with value: 0.548381153729991 and parameters: {'n_neighbors': 61, 'numeric_imputation': 'median', 'scaling_strategy': 'standard', 'knn_weights': 'uniform'}. Best is trial 10 with value: 0.548381153729991.\u001b[0m\n",
      "\u001b[32m[I 2022-02-05 12:02:58,551]\u001b[0m Trial 95 finished with value: 0.5458441558441559 and parameters: {'n_neighbors': 48, 'numeric_imputation': 'median', 'scaling_strategy': 'standard', 'knn_weights': 'uniform'}. Best is trial 10 with value: 0.548381153729991.\u001b[0m\n",
      "\u001b[32m[I 2022-02-05 12:02:58,762]\u001b[0m Trial 96 finished with value: 0.0 and parameters: {'n_neighbors': 73, 'numeric_imputation': 'median', 'scaling_strategy': 'minmax', 'knn_weights': 'uniform'}. Best is trial 10 with value: 0.548381153729991.\u001b[0m\n",
      "\u001b[32m[I 2022-02-05 12:02:58,965]\u001b[0m Trial 97 finished with value: 0.548381153729991 and parameters: {'n_neighbors': 58, 'numeric_imputation': 'median', 'scaling_strategy': 'standard', 'knn_weights': 'uniform'}. Best is trial 10 with value: 0.548381153729991.\u001b[0m\n",
      "\u001b[32m[I 2022-02-05 12:02:59,124]\u001b[0m Trial 98 finished with value: 0.548381153729991 and parameters: {'n_neighbors': 51, 'numeric_imputation': 'median', 'scaling_strategy': 'standard', 'knn_weights': 'uniform'}. Best is trial 10 with value: 0.548381153729991.\u001b[0m\n",
      "\u001b[32m[I 2022-02-05 12:02:59,302]\u001b[0m Trial 99 finished with value: 0.5392902446390819 and parameters: {'n_neighbors': 43, 'numeric_imputation': 'median', 'scaling_strategy': 'standard', 'knn_weights': 'uniform'}. Best is trial 10 with value: 0.548381153729991.\u001b[0m\n"
     ]
    }
   ],
   "source": [
    "study.optimize(objective, n_trials=100)"
   ]
  },
  {
   "cell_type": "code",
   "execution_count": 40,
   "metadata": {},
   "outputs": [
    {
     "data": {
      "text/plain": [
       "{'n_neighbors': 66,\n",
       " 'numeric_imputation': 'mean',\n",
       " 'scaling_strategy': 'standard',\n",
       " 'knn_weights': 'distance'}"
      ]
     },
     "execution_count": 40,
     "metadata": {},
     "output_type": "execute_result"
    }
   ],
   "source": [
    "study.best_params"
   ]
  },
  {
   "cell_type": "code",
   "execution_count": 41,
   "metadata": {},
   "outputs": [],
   "source": [
    "clf = make_clf(66, 'mean', 'standard', 'distance')"
   ]
  },
  {
   "cell_type": "code",
   "execution_count": 42,
   "metadata": {
    "collapsed": true,
    "jupyter": {
     "outputs_hidden": true
    }
   },
   "outputs": [
    {
     "data": {
      "text/plain": [
       "Pipeline(steps=[('preprocessing',\n",
       "                 ColumnTransformer(transformers=[('categorical',\n",
       "                                                  Pipeline(steps=[('imputation',\n",
       "                                                                   SimpleImputer(strategy='most_frequent')),\n",
       "                                                                  ('ohe',\n",
       "                                                                   OneHotEncoder(handle_unknown='ignore'))]),\n",
       "                                                  ['Gender', 'Married',\n",
       "                                                   'Dependents', 'Education',\n",
       "                                                   'Self_Employed',\n",
       "                                                   'Loan_Amount_Term',\n",
       "                                                   'Property_Area']),\n",
       "                                                 ('numeric',\n",
       "                                                  Pipeline(steps=[('imputation',\n",
       "                                                                   SimpleImputer()),\n",
       "                                                                  ('scaling',\n",
       "                                                                   StandardScaler())]),\n",
       "                                                  ['ApplicantIncome',\n",
       "                                                   'CoapplicantIncome',\n",
       "                                                   'LoanAmount',\n",
       "                                                   'Credit_History'])])),\n",
       "                ('clf',\n",
       "                 KNeighborsClassifier(n_neighbors=66, weights='distance'))])"
      ]
     },
     "execution_count": 42,
     "metadata": {},
     "output_type": "execute_result"
    }
   ],
   "source": [
    "clf.fit(X_train, y_train)"
   ]
  },
  {
   "cell_type": "code",
   "execution_count": 43,
   "metadata": {},
   "outputs": [
    {
     "data": {
      "text/plain": [
       "0.6865671641791045"
      ]
     },
     "execution_count": 43,
     "metadata": {},
     "output_type": "execute_result"
    }
   ],
   "source": [
    "f1_score(y_test, clf.predict(X_test), pos_label='N')"
   ]
  }
 ],
 "metadata": {
  "kernelspec": {
   "display_name": "Python 3",
   "language": "python",
   "name": "python3"
  },
  "language_info": {
   "codemirror_mode": {
    "name": "ipython",
    "version": 3
   },
   "file_extension": ".py",
   "mimetype": "text/x-python",
   "name": "python",
   "nbconvert_exporter": "python",
   "pygments_lexer": "ipython3",
   "version": "3.8.6"
  }
 },
 "nbformat": 4,
 "nbformat_minor": 4
}
